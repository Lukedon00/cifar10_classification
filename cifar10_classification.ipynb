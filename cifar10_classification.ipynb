{
 "cells": [
  {
   "cell_type": "code",
   "execution_count": 1,
   "metadata": {},
   "outputs": [
    {
     "name": "stdout",
     "output_type": "stream",
     "text": [
      "WARNING:tensorflow:From C:\\Users\\ASUS\\anaconda3\\Lib\\site-packages\\keras\\src\\losses.py:2976: The name tf.losses.sparse_softmax_cross_entropy is deprecated. Please use tf.compat.v1.losses.sparse_softmax_cross_entropy instead.\n",
      "\n"
     ]
    }
   ],
   "source": [
    "#CIFAR-10 Classification using Artificial Neural Networks (ANN) and Convolutional Neural Neworks (CNN)\n",
    "\n",
    "\n",
    "# Import necessary libraries\n",
    "import tensorflow as tf\n",
    "from tensorflow.keras import datasets, layers, models\n",
    "import numpy as np\n",
    "import matplotlib.pyplot as plt\n",
    "from sklearn.metrics import classification_report\n",
    "import ssl"
   ]
  },
  {
   "cell_type": "code",
   "execution_count": 2,
   "metadata": {},
   "outputs": [],
   "source": [
    "# To avoid SSL certificate verification issues\n",
    "ssl._create_default_https_context = ssl._create_unverified_context"
   ]
  },
  {
   "cell_type": "code",
   "execution_count": 3,
   "metadata": {},
   "outputs": [],
   "source": [
    "# Load the CIFAR-10 dataset\n",
    "(x_train, y_train), (x_test, y_test) = datasets.cifar10.load_data()\n",
    "\n",
    "# Reshape the labels from 2D to 1D\n",
    "y_train = y_train.reshape(-1,)\n",
    "y_test = y_test.reshape(-1,)"
   ]
  },
  {
   "cell_type": "code",
   "execution_count": 4,
   "metadata": {},
   "outputs": [],
   "source": [
    "# Class labels\n",
    "classes = ['airplane', 'automobile', 'bird', 'cat', 'deer', 'dog', 'frog', 'horse', 'ship', 'truck']\n"
   ]
  },
  {
   "cell_type": "code",
   "execution_count": 5,
   "metadata": {},
   "outputs": [
    {
     "data": {
      "image/png": "[encoded data removed]",
      "text/plain": [
       "<Figure size 600x200 with 1 Axes>"
      ]
     },
     "metadata": {},
     "output_type": "display_data"
    }
   ],
   "source": [
    "# Function to plot sample images\n",
    "def plot_sample(x, y, index):\n",
    "    plt.figure(figsize=(6,2))\n",
    "    plt.imshow(x[index])\n",
    "    plt.xlabel(classes[y[index]])\n",
    "\n",
    "# Plot a sample image\n",
    "plot_sample(x_train, y_train, 1854)"
   ]
  },
  {
   "cell_type": "code",
   "execution_count": 6,
   "metadata": {},
   "outputs": [],
   "source": [
    "# Normalize the data (scaling pixel values to the range 0-1)\n",
    "x_train = x_train / 255.0\n",
    "x_test = x_test / 255.0\n"
   ]
  },
  {
   "cell_type": "code",
   "execution_count": 7,
   "metadata": {},
   "outputs": [
    {
     "name": "stdout",
     "output_type": "stream",
     "text": [
      "WARNING:tensorflow:From C:\\Users\\ASUS\\anaconda3\\Lib\\site-packages\\keras\\src\\backend.py:873: The name tf.get_default_graph is deprecated. Please use tf.compat.v1.get_default_graph instead.\n",
      "\n",
      "WARNING:tensorflow:From C:\\Users\\ASUS\\anaconda3\\Lib\\site-packages\\keras\\src\\optimizers\\__init__.py:309: The name tf.train.Optimizer is deprecated. Please use tf.compat.v1.train.Optimizer instead.\n",
      "\n",
      "Epoch 1/10\n",
      "WARNING:tensorflow:From C:\\Users\\ASUS\\anaconda3\\Lib\\site-packages\\keras\\src\\utils\\tf_utils.py:492: The name tf.ragged.RaggedTensorValue is deprecated. Please use tf.compat.v1.ragged.RaggedTensorValue instead.\n",
      "\n",
      "WARNING:tensorflow:From C:\\Users\\ASUS\\anaconda3\\Lib\\site-packages\\keras\\src\\engine\\base_layer_utils.py:384: The name tf.executing_eagerly_outside_functions is deprecated. Please use tf.compat.v1.executing_eagerly_outside_functions instead.\n",
      "\n",
      "1563/1563 [==============================] - 24s 11ms/step - loss: 2.0675 - accuracy: 0.2187\n",
      "Epoch 2/10\n",
      "1563/1563 [==============================] - 32s 21ms/step - loss: 1.9622 - accuracy: 0.2566\n",
      "Epoch 3/10\n",
      "1563/1563 [==============================] - 35s 22ms/step - loss: 1.9417 - accuracy: 0.2576\n",
      "Epoch 4/10\n",
      "1563/1563 [==============================] - 47s 30ms/step - loss: 1.9311 - accuracy: 0.2573\n",
      "Epoch 5/10\n",
      "1563/1563 [==============================] - 48s 31ms/step - loss: 1.9243 - accuracy: 0.2574\n",
      "Epoch 6/10\n",
      "1563/1563 [==============================] - 39s 25ms/step - loss: 1.9204 - accuracy: 0.2579\n",
      "Epoch 7/10\n",
      "1563/1563 [==============================] - 31s 20ms/step - loss: 1.9179 - accuracy: 0.2577\n",
      "Epoch 8/10\n",
      "1563/1563 [==============================] - 22s 14ms/step - loss: 1.9128 - accuracy: 0.2581\n",
      "Epoch 9/10\n",
      "1563/1563 [==============================] - 15s 9ms/step - loss: 1.9127 - accuracy: 0.2608\n",
      "Epoch 10/10\n",
      "1563/1563 [==============================] - 13s 8ms/step - loss: 1.9086 - accuracy: 0.2610\n"
     ]
    },
    {
     "data": {
      "text/plain": [
       "<keras.src.callbacks.History at 0x20396172ed0>"
      ]
     },
     "execution_count": 7,
     "metadata": {},
     "output_type": "execute_result"
    }
   ],
   "source": [
    "# Build a simple ANN model\n",
    "ann = models.Sequential([\n",
    "    layers.Flatten(input_shape=(32, 32, 3)),\n",
    "    layers.Dense(30, activation='relu'),   # First hidden layer with ReLU\n",
    "    layers.Dense(15, activation='relu'),   # Second hidden layer with ReLU\n",
    "    layers.Dense(10, activation='sigmoid') # Output layer with Sigmoid activation\n",
    "])\n",
    "\n",
    "# Compile the ANN model\n",
    "ann.compile(optimizer='adam',\n",
    "            loss='sparse_categorical_crossentropy',\n",
    "            metrics=['accuracy'])\n",
    "\n",
    "# Train the ANN model\n",
    "ann.fit(x_train, y_train, epochs=10)"
   ]
  },
  {
   "cell_type": "code",
   "execution_count": 8,
   "metadata": {},
   "outputs": [
    {
     "name": "stdout",
     "output_type": "stream",
     "text": [
      "313/313 [==============================] - 2s 5ms/step - loss: 1.8988 - accuracy: 0.2678\n"
     ]
    },
    {
     "data": {
      "text/plain": [
       "[1.8987525701522827, 0.2678000032901764]"
      ]
     },
     "execution_count": 8,
     "metadata": {},
     "output_type": "execute_result"
    }
   ],
   "source": [
    "# Evaluate the ANN model on the test set\n",
    "ann.evaluate(x_test, y_test)"
   ]
  },
  {
   "cell_type": "code",
   "execution_count": 9,
   "metadata": {},
   "outputs": [
    {
     "name": "stdout",
     "output_type": "stream",
     "text": [
      "313/313 [==============================] - 3s 7ms/step\n",
      "Classification report (ANN): \n",
      "               precision    recall  f1-score   support\n",
      "\n",
      "           0       0.33      0.57      0.42      1000\n",
      "           1       0.29      0.24      0.26      1000\n",
      "           2       0.19      0.01      0.02      1000\n",
      "           3       0.16      0.04      0.06      1000\n",
      "           4       0.14      0.02      0.04      1000\n",
      "           5       0.18      0.38      0.24      1000\n",
      "           6       0.25      0.62      0.35      1000\n",
      "           7       0.20      0.07      0.11      1000\n",
      "           8       0.36      0.27      0.31      1000\n",
      "           9       0.38      0.44      0.41      1000\n",
      "\n",
      "    accuracy                           0.27     10000\n",
      "   macro avg       0.25      0.27      0.22     10000\n",
      "weighted avg       0.25      0.27      0.22     10000\n",
      "\n"
     ]
    }
   ],
   "source": [
    "# Make predictions on the test set\n",
    "y_prediction = ann.predict(x_test)\n",
    "y_pred = [np.argmax(i) for i in y_prediction]\n",
    "\n",
    "# Print classification report for ANN model\n",
    "print('Classification report (ANN): \\n', classification_report(y_test, y_pred))"
   ]
  },
  {
   "cell_type": "code",
   "execution_count": 10,
   "metadata": {},
   "outputs": [
    {
     "name": "stdout",
     "output_type": "stream",
     "text": [
      "Confusion Matrix (ANN):\n",
      " tf.Tensor(\n",
      "[[573  38   6  10   4 113  35  17 148  56]\n",
      " [ 73 240   1  20   0  92  73  34 101 366]\n",
      " [184  29   9  37  26 281 357  42  16  19]\n",
      " [ 90  81   7  39  23 374 275  56  21  34]\n",
      " [ 86  29   1  25  21 273 506  27  19  13]\n",
      " [119  56  10  29  26 383 293  43  25  16]\n",
      " [ 20  48   1  45  19 203 622  24   0  18]\n",
      " [ 93  72   5  28  25 337 282  74  35  49]\n",
      " [413  50   7   1   1  68  13  23 274 150]\n",
      " [ 84 186   1  16   4  46  57  32 131 443]], shape=(10, 10), dtype=int32)\n"
     ]
    }
   ],
   "source": [
    "# Confusion matrix for ANN model\n",
    "cm = tf.math.confusion_matrix(labels=y_test, predictions=y_pred)\n",
    "print('Confusion Matrix (ANN):\\n', cm)"
   ]
  },
  {
   "cell_type": "code",
   "execution_count": 11,
   "metadata": {},
   "outputs": [
    {
     "name": "stdout",
     "output_type": "stream",
     "text": [
      "WARNING:tensorflow:From C:\\Users\\ASUS\\anaconda3\\Lib\\site-packages\\keras\\src\\layers\\pooling\\max_pooling2d.py:161: The name tf.nn.max_pool is deprecated. Please use tf.nn.max_pool2d instead.\n",
      "\n",
      "Epoch 1/10\n",
      "1563/1563 [==============================] - 96s 55ms/step - loss: 1.4314 - accuracy: 0.4803\n",
      "Epoch 2/10\n",
      "1563/1563 [==============================] - 75s 48ms/step - loss: 1.0831 - accuracy: 0.6188\n",
      "Epoch 3/10\n",
      "1563/1563 [==============================] - 80s 51ms/step - loss: 0.9214 - accuracy: 0.6771\n",
      "Epoch 4/10\n",
      "1563/1563 [==============================] - 81s 52ms/step - loss: 0.8029 - accuracy: 0.7187\n",
      "Epoch 5/10\n",
      "1563/1563 [==============================] - 74s 47ms/step - loss: 0.7168 - accuracy: 0.7494\n",
      "Epoch 6/10\n",
      "1563/1563 [==============================] - 110s 70ms/step - loss: 0.6317 - accuracy: 0.7795\n",
      "Epoch 7/10\n",
      "1563/1563 [==============================] - 92s 59ms/step - loss: 0.5553 - accuracy: 0.8039\n",
      "Epoch 8/10\n",
      "1563/1563 [==============================] - 40s 26ms/step - loss: 0.4905 - accuracy: 0.8261\n",
      "Epoch 9/10\n",
      "1563/1563 [==============================] - 31s 20ms/step - loss: 0.4237 - accuracy: 0.8508\n",
      "Epoch 10/10\n",
      "1563/1563 [==============================] - 36s 23ms/step - loss: 0.3631 - accuracy: 0.8710\n"
     ]
    },
    {
     "data": {
      "text/plain": [
       "<keras.src.callbacks.History at 0x203983c2750>"
      ]
     },
     "execution_count": 11,
     "metadata": {},
     "output_type": "execute_result"
    }
   ],
   "source": [
    "# Build a CNN model\n",
    "cnn = models.Sequential([\n",
    "    layers.Conv2D(32, (3, 3), activation='relu', input_shape=(32, 32, 3)),\n",
    "    layers.MaxPooling2D((2, 2)),\n",
    "    layers.Conv2D(32, (3, 3), activation='relu'),\n",
    "    layers.MaxPooling2D((2, 2)),\n",
    "    layers.Flatten(),\n",
    "    layers.Dense(200, activation='relu'),   # First hidden layer with ReLU\n",
    "    layers.Dense(100, activation='relu'),   # Second hidden layer with ReLU\n",
    "    layers.Dense(10, activation='softmax')  # Output layer with Softmax activation for multi-class classification\n",
    "])\n",
    "\n",
    "# Compile the CNN model\n",
    "cnn.compile(optimizer='adam',\n",
    "            loss='sparse_categorical_crossentropy',\n",
    "            metrics=['accuracy'])\n",
    "\n",
    "# Train the CNN model\n",
    "cnn.fit(x_train, y_train, epochs=10)"
   ]
  },
  {
   "cell_type": "code",
   "execution_count": 12,
   "metadata": {},
   "outputs": [
    {
     "name": "stdout",
     "output_type": "stream",
     "text": [
      "313/313 [==============================] - 3s 7ms/step - loss: 1.0964 - accuracy: 0.6978\n",
      "313/313 [==============================] - 3s 9ms/step\n"
     ]
    }
   ],
   "source": [
    "# Evaluate the CNN model on the test set\n",
    "cnn.evaluate(x_test, y_test)\n",
    "\n",
    "# Make predictions on the test set\n",
    "y_pred = cnn.predict(x_test)\n",
    "y_classes = [np.argmax(element) for element in y_pred]"
   ]
  },
  {
   "cell_type": "code",
   "execution_count": 13,
   "metadata": {},
   "outputs": [
    {
     "name": "stdout",
     "output_type": "stream",
     "text": [
      "Classification report (CNN): \n",
      "               precision    recall  f1-score   support\n",
      "\n",
      "           0       0.70      0.77      0.73      1000\n",
      "           1       0.79      0.84      0.82      1000\n",
      "           2       0.61      0.59      0.60      1000\n",
      "           3       0.49      0.52      0.50      1000\n",
      "           4       0.67      0.61      0.64      1000\n",
      "           5       0.59      0.60      0.60      1000\n",
      "           6       0.82      0.74      0.77      1000\n",
      "           7       0.78      0.72      0.75      1000\n",
      "           8       0.82      0.77      0.80      1000\n",
      "           9       0.73      0.81      0.77      1000\n",
      "\n",
      "    accuracy                           0.70     10000\n",
      "   macro avg       0.70      0.70      0.70     10000\n",
      "weighted avg       0.70      0.70      0.70     10000\n",
      "\n"
     ]
    }
   ],
   "source": [
    "# Print classification report for CNN model\n",
    "print('Classification report (CNN): \\n', classification_report(y_test, y_classes))"
   ]
  },
  {
   "cell_type": "code",
   "execution_count": null,
   "metadata": {},
   "outputs": [],
   "source": []
  }
 ],
 "metadata": {
  "kernelspec": {
   "display_name": "Python 3 (ipykernel)",
   "language": "python",
   "name": "python3"
  },
  "language_info": {
   "codemirror_mode": {
    "name": "ipython",
    "version": 3
   },
   "file_extension": ".py",
   "mimetype": "text/x-python",
   "name": "python",
   "nbconvert_exporter": "python",
   "pygments_lexer": "ipython3",
   "version": "3.11.5"
  }
 },
 "nbformat": 4,
 "nbformat_minor": 2
}
